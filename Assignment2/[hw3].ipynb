{
 "cells": [
  {
   "cell_type": "markdown",
   "id": "c4cadb38-3bd5-4575-8960-e1c9f71f7395",
   "metadata": {},
   "source": [
    "Import Load dataset via pandas"
   ]
  },
  {
   "cell_type": "code",
   "execution_count": 1,
   "id": "b9fc13cb-abbf-4501-86b6-27d10fef8182",
   "metadata": {},
   "outputs": [
    {
     "data": {
      "text/html": [
       "<div>\n",
       "<style scoped>\n",
       "    .dataframe tbody tr th:only-of-type {\n",
       "        vertical-align: middle;\n",
       "    }\n",
       "\n",
       "    .dataframe tbody tr th {\n",
       "        vertical-align: top;\n",
       "    }\n",
       "\n",
       "    .dataframe thead th {\n",
       "        text-align: right;\n",
       "    }\n",
       "</style>\n",
       "<table border=\"1\" class=\"dataframe\">\n",
       "  <thead>\n",
       "    <tr style=\"text-align: right;\">\n",
       "      <th></th>\n",
       "      <th>TV</th>\n",
       "      <th>Radio</th>\n",
       "      <th>Newspaper</th>\n",
       "      <th>Sales</th>\n",
       "    </tr>\n",
       "  </thead>\n",
       "  <tbody>\n",
       "    <tr>\n",
       "      <th>1</th>\n",
       "      <td>230.1</td>\n",
       "      <td>37.8</td>\n",
       "      <td>69.2</td>\n",
       "      <td>22.1</td>\n",
       "    </tr>\n",
       "    <tr>\n",
       "      <th>2</th>\n",
       "      <td>44.5</td>\n",
       "      <td>39.3</td>\n",
       "      <td>45.1</td>\n",
       "      <td>10.4</td>\n",
       "    </tr>\n",
       "    <tr>\n",
       "      <th>3</th>\n",
       "      <td>17.2</td>\n",
       "      <td>45.9</td>\n",
       "      <td>69.3</td>\n",
       "      <td>9.3</td>\n",
       "    </tr>\n",
       "  </tbody>\n",
       "</table>\n",
       "</div>"
      ],
      "text/plain": [
       "      TV  Radio  Newspaper  Sales\n",
       "1  230.1   37.8       69.2   22.1\n",
       "2   44.5   39.3       45.1   10.4\n",
       "3   17.2   45.9       69.3    9.3"
      ]
     },
     "execution_count": 1,
     "metadata": {},
     "output_type": "execute_result"
    }
   ],
   "source": [
    "import numpy as np\n",
    "import pandas as pd\n",
    "import matplotlib.pyplot as plt\n",
    "import sklearn as sk\n",
    "from sklearn import preprocessing\n",
    "from sklearn.model_selection import train_test_split\n",
    "from sklearn.metrics import r2_score\n",
    "\n",
    "pd.options.mode.copy_on_write = True\n",
    "\n",
    "data = pd.read_csv(\"data/Advertising.csv\",index_col=0)\n",
    "data.head(3)"
   ]
  },
  {
   "cell_type": "markdown",
   "id": "f8e7a0cc-79d2-46f2-8def-234307b937da",
   "metadata": {},
   "source": [
    "Separate sales from dataset"
   ]
  },
  {
   "cell_type": "code",
   "execution_count": 2,
   "id": "7c0e366d-33a8-4e82-8709-23557e593832",
   "metadata": {},
   "outputs": [],
   "source": [
    "sales = data.Sales.values\n",
    "data = data.drop(['Sales'], axis = 1)"
   ]
  },
  {
   "cell_type": "markdown",
   "id": "7a1703c2-71c0-4d03-a351-9603fa44e40c",
   "metadata": {},
   "source": [
    "Split dataset into training and testing before applying standardization to avoid unintended bias"
   ]
  },
  {
   "cell_type": "code",
   "execution_count": 3,
   "id": "dde4228d-7b9e-4932-8788-661ac62cb51f",
   "metadata": {},
   "outputs": [],
   "source": [
    "data_train, data_test, sales_train, sales_test = train_test_split(data, sales, test_size=0.25, random_state = 200)"
   ]
  },
  {
   "cell_type": "markdown",
   "id": "f1403d6d-2543-412a-b461-bb3764c3b8dc",
   "metadata": {},
   "source": [
    "Standardizing columns"
   ]
  },
  {
   "cell_type": "code",
   "execution_count": 4,
   "id": "a99bc521-021b-4152-8cbc-ae51064b97fe",
   "metadata": {},
   "outputs": [],
   "source": [
    "data_train = preprocessing.scale(data_train)\n",
    "data_test = preprocessing.scale(data_test)\n",
    "sales_train = preprocessing.scale(sales_train)\n",
    "sales_test = preprocessing.scale(sales_test)"
   ]
  },
  {
   "cell_type": "markdown",
   "id": "878d9165-4d15-44c4-be20-2744cdbad9bf",
   "metadata": {},
   "source": [
    "Add a column of 1 to both datasets"
   ]
  },
  {
   "cell_type": "code",
   "execution_count": 5,
   "id": "bc4b0f50-6f80-413f-a7c7-013c00789bd5",
   "metadata": {},
   "outputs": [],
   "source": [
    "data_train = np.c_[np.ones(len(data_train)), data_train]\n",
    "data_test = np.c_[np.ones(len(data_test)), data_test]"
   ]
  },
  {
   "cell_type": "markdown",
   "id": "503bf5c2-0cba-4d28-9b45-744d46a9bca6",
   "metadata": {},
   "source": [
    "Written functions for gradient descent"
   ]
  },
  {
   "cell_type": "markdown",
   "id": "9a7c21ec-161b-4381-ac50-68406033e539",
   "metadata": {},
   "source": [
    "Initialize weights"
   ]
  },
  {
   "cell_type": "code",
   "execution_count": 6,
   "id": "4856ef86-faa9-4719-8cbc-4e1e03e349d7",
   "metadata": {},
   "outputs": [],
   "source": [
    "def initialize_weights(randomize = False):\n",
    "    if randomize:\n",
    "        return np.random.rand(4)\n",
    "    else:\n",
    "        return np.zero(4)"
   ]
  },
  {
   "cell_type": "markdown",
   "id": "d1bb1044-3479-4a04-97ff-04d617b0adc0",
   "metadata": {},
   "source": [
    "Predict values based on weights"
   ]
  },
  {
   "cell_type": "code",
   "execution_count": 7,
   "id": "67c847e4-11de-4ed3-aaec-d495a4f32ec9",
   "metadata": {},
   "outputs": [],
   "source": [
    "def predict(weights, predictors):\n",
    "    return np.dot(weights,predictors.T)"
   ]
  },
  {
   "cell_type": "markdown",
   "id": "1ef20643-26b7-4a64-ad0d-ba39b4f9709d",
   "metadata": {},
   "source": [
    "Calculate cost function"
   ]
  },
  {
   "cell_type": "code",
   "execution_count": 8,
   "id": "1229641a-49ba-4842-8cfe-753f34c2b040",
   "metadata": {},
   "outputs": [],
   "source": [
    "def compute_cost(predicted, actual):\n",
    "    errors = np.subtract(predicted, actual)\n",
    "    sqrd_err = errors ** 2\n",
    "    mse = np.sum(sqrd_err) / (2 * len(actual))\n",
    "    return mse"
   ]
  },
  {
   "cell_type": "markdown",
   "id": "b022398f-4d29-4c78-9fab-dbec1f8cfd4a",
   "metadata": {},
   "source": [
    "Compute gradient using the partial derivatives of each predictor"
   ]
  },
  {
   "cell_type": "code",
   "execution_count": 9,
   "id": "6229244e-3193-437b-a8dc-70a7d8a42f90",
   "metadata": {},
   "outputs": [],
   "source": [
    "def compute_gradient(data, predicted, actual):\n",
    "    error = np.subtract(predicted, actual)\n",
    "    gradient = (np.dot(error,data)) / len(data)\n",
    "    return gradient"
   ]
  },
  {
   "cell_type": "markdown",
   "id": "2089c984-e89b-4454-93f9-7f275e17b906",
   "metadata": {},
   "source": [
    "Update weights based on the learning rate"
   ]
  },
  {
   "cell_type": "code",
   "execution_count": 10,
   "id": "7a68edf7-9bd5-4bea-8a31-613aef9416df",
   "metadata": {},
   "outputs": [],
   "source": [
    "def update_weights(weights, gradient, learning_rate):\n",
    "    return weights - (learning_rate * gradient)"
   ]
  },
  {
   "cell_type": "markdown",
   "id": "9f37c607-aea3-41e4-9bca-9ead5fe2a1bb",
   "metadata": {},
   "source": [
    "Place all previous functions into the gradient descent function"
   ]
  },
  {
   "cell_type": "code",
   "execution_count": 11,
   "id": "7a2db8fc-89a4-4a03-85dc-cedfc6cb5fd1",
   "metadata": {},
   "outputs": [],
   "source": [
    "def grad_descent(data_train, result_train, alpha = 0.1, iterations = 50, d_test=None, s_test=None):\n",
    "    weights = initialize_weights(randomize=True)\n",
    "    cost_values = []\n",
    "    costs = []\n",
    "    for _ in range(iterations):\n",
    "        predicted = predict(weights, data_train)\n",
    "        cost_values.append(compute_cost(predicted, result_train))\n",
    "        if s_test.size != 0:\n",
    "            costs.append(compute_cost(predict(weights, d_test),s_test))\n",
    "        gradient = compute_gradient(data_train, predicted, result_train)\n",
    "        weights = update_weights(weights, gradient, alpha)\n",
    "    return weights, cost_values, costs"
   ]
  },
  {
   "cell_type": "markdown",
   "id": "af3b305e-4adb-4c9a-8457-2e3d0b68d540",
   "metadata": {},
   "source": [
    "Create a function to show the cost over iteration"
   ]
  },
  {
   "cell_type": "code",
   "execution_count": 12,
   "id": "dd1dc912-a8d8-4170-8995-081769b0e559",
   "metadata": {},
   "outputs": [],
   "source": [
    "def plot_costs(cost_values, costs):\n",
    "    plt.plot(cost_values, '-o')\n",
    "    plt.plot(costs, '-o')\n",
    "    plt.show\n",
    "    # x = np.arange(len(sales_train))\n",
    "    # plt.scatter(x,sales_train)\n",
    "    # plt.show"
   ]
  },
  {
   "cell_type": "code",
   "execution_count": 31,
   "id": "7fa0f6af-64c2-44f8-86aa-a7eba8e3b64a",
   "metadata": {},
   "outputs": [
    {
     "name": "stdout",
     "output_type": "stream",
     "text": [
      "Final train cost:  0.043226367431031275\n",
      "Final test cost:  0.07341269745802824\n",
      "Train Score: 90.53225129485395\n",
      "Test Score: 82.78164303881546\n"
     ]
    },
    {
     "data": {
      "image/png": "[encoded data removed]",
      "text/plain": [
       "<Figure size 640x480 with 1 Axes>"
      ]
     },
     "metadata": {},
     "output_type": "display_data"
    }
   ],
   "source": [
    "weights, cost_values, costs = grad_descent(\n",
    "    np.copy(data_train), \n",
    "    np.copy(sales_train), \n",
    "    alpha = 0.01, \n",
    "    iterations = 1000, \n",
    "    d_test = np.copy(data_test), \n",
    "    s_test = np.copy(sales_test)\n",
    ")\n",
    "\n",
    "plot_costs(cost_values, costs)\n",
    "\n",
    "test = predict(weights, data_test)\n",
    "print(\"Final train cost: \", cost_values[-1])\n",
    "print(\"Final test cost: \", compute_cost(test, sales_test))\n",
    "\n",
    "# Test for accuracy using R^2\n",
    "accuracy = r2_score(predict(weights, data_train), sales_train)\n",
    "print(\"Train Score: \" + str(accuracy*100))\n",
    "\n",
    "accuracy = r2_score(test, sales_test)\n",
    "print(\"Test Score: \" + str(accuracy*100))"
   ]
  }
 ],
 "metadata": {
  "kernelspec": {
   "display_name": "Python 3 (ipykernel)",
   "language": "python",
   "name": "python3"
  },
  "language_info": {
   "codemirror_mode": {
    "name": "ipython",
    "version": 3
   },
   "file_extension": ".py",
   "mimetype": "text/x-python",
   "name": "python",
   "nbconvert_exporter": "python",
   "pygments_lexer": "ipython3",
   "version": "3.12.3"
  }
 },
 "nbformat": 4,
 "nbformat_minor": 5
}
